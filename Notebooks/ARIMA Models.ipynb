{
 "cells": [
  {
   "cell_type": "code",
   "execution_count": null,
   "metadata": {},
   "outputs": [],
   "source": [
    "import numpy as np\n",
    "import pandas as pd\n",
    "import seaborn as sns\n",
    "import matplotlib.pyplot as plt\n",
    "import statsmodels.api as sm\n",
    "from statsmodels.tsa.arima_model import ARMA,ARMAResults,ARIMA,ARIMAResults\n",
    "from statsmodels.tsa.statespace.sarimax import SARIMAX\n",
    "\n",
    "from pmdarima import auto_arima # for determining ARIMA orders\n",
    "%matplotlib inline\n",
    "#ignore harmless warnings\n",
    "import warnings \n",
    "warnings.filterwarnings(\"ignore\")\n",
    "from sklearn.metrics import mean_absolute_error"
   ]
  },
  {
   "cell_type": "code",
   "execution_count": null,
   "metadata": {},
   "outputs": [],
   "source": [
    "df = pd.read_csv(\"../csv-files/mid-2017-2019-datetime.csv\", index_col=[0], parse_dates=[0])\n",
    "df.head()"
   ]
  },
  {
   "cell_type": "code",
   "execution_count": null,
   "metadata": {},
   "outputs": [],
   "source": [
    "df_gas = pd.read_csv(\"../csv-files/gas_data.csv\",index_col=[0], parse_dates=[0],encoding = \"ISO-8859-1\")\n",
    "df_gas.head()\n"
   ]
  },
  {
   "cell_type": "code",
   "execution_count": null,
   "metadata": {},
   "outputs": [],
   "source": [
    "df=pd.read_csv(\"../csv-files/mid-gas-2017-2019.csv\",index_col=[0], parse_dates=[0])\n",
    "df.head()"
   ]
  },
  {
   "cell_type": "code",
   "execution_count": null,
   "metadata": {},
   "outputs": [],
   "source": [
    "df_INDO=pd.read_csv('../csv-files/INDO-2017-2019.csv',index_col=[0],parse_dates=[0])\n",
    "\n",
    "df_INDO.head(3)"
   ]
  },
  {
   "cell_type": "code",
   "execution_count": null,
   "metadata": {},
   "outputs": [],
   "source": [
    "df=pd.merge(df,df_INDO['INDO'], how='inner', left_index=True, right_index=True)\n",
    "df.head()"
   ]
  },
  {
   "cell_type": "code",
   "execution_count": null,
   "metadata": {},
   "outputs": [],
   "source": [
    "#Splitting the data:\n",
    "def split_data(data, split_date):\n",
    "    return data[data.index <= split_date].copy(), \\\n",
    "           data[data.index >  split_date].copy()\n",
    "\n",
    "def limit(data, frm, to):\n",
    "    return data[(data.index>=frm)&(data.index<to)]"
   ]
  },
  {
   "cell_type": "code",
   "execution_count": null,
   "metadata": {},
   "outputs": [],
   "source": [
    "df.sort_index(inplace=True)"
   ]
  },
  {
   "cell_type": "code",
   "execution_count": null,
   "metadata": {},
   "outputs": [],
   "source": [
    "t = df.Price.copy()\n",
    "t = t.drop(t.index[t.index.duplicated()])\n",
    "freq_index = pd.date_range(start=t.index[0], end=t.index[-1], freq='30T')\n",
    "constructed = pd.Series(index=freq_index, name='Price')\n",
    "constructed.update(t)\n",
    "constructed.interpolate(inplace=True)\n"
   ]
  },
  {
   "cell_type": "code",
   "execution_count": null,
   "metadata": {},
   "outputs": [],
   "source": [
    "#for gas series:\n",
    "g = df.Gas.copy()\n",
    "g = g.drop(g.index[g.index.duplicated()])\n",
    "freq_index = pd.date_range(start=g.index[0], end=g.index[-1], freq='30T')\n",
    "constructed_gas = pd.Series(index=freq_index, name='Gas')\n",
    "constructed_gas.update(g)\n",
    "constructed_gas.interpolate(inplace=True)\n"
   ]
  },
  {
   "cell_type": "code",
   "execution_count": null,
   "metadata": {},
   "outputs": [],
   "source": [
    "#for INDO series:\n",
    "i = df.INDO.copy()\n",
    "i = i.drop(i.index[i.index.duplicated()])\n",
    "freq_index = pd.date_range(start=i.index[0], end=i.index[-1], freq='30T')\n",
    "constructed_indo = pd.Series(index=freq_index, name='INDO')\n",
    "constructed_indo.update(i)\n",
    "constructed_indo.interpolate(inplace=True)"
   ]
  },
  {
   "cell_type": "code",
   "execution_count": null,
   "metadata": {},
   "outputs": [],
   "source": [
    "train = limit(constructed, '2019-01-01', '2019-06-15')\n",
    "test  = limit(constructed, '2019-06-15', '2019-07-01')\n",
    "test.shape, train.shape\n",
    "\n"
   ]
  },
  {
   "cell_type": "code",
   "execution_count": null,
   "metadata": {},
   "outputs": [],
   "source": [
    "train_=df[df.index.isin(train.index).copy()]\n",
    "train_.shape\n"
   ]
  },
  {
   "cell_type": "code",
   "execution_count": null,
   "metadata": {},
   "outputs": [],
   "source": [
    "#Train and test for Gas Series:\n",
    "train_gas = limit(constructed_gas, '2017-01-01', '2019-06-15')\n",
    "test_gas  = limit(constructed_gas, '2019-06-15', '2019-07-01')\n",
    "test_gas.shape\n",
    "\n",
    "\n"
   ]
  },
  {
   "cell_type": "code",
   "execution_count": null,
   "metadata": {},
   "outputs": [],
   "source": [
    "train_indo = limit(constructed_indo, '2017-01-01', '2019-06-15')\n",
    "test_indo = limit(constructed_indo, '2019-06-15', '2019-07-01')\n",
    "test_indo.shape\n"
   ]
  },
  {
   "cell_type": "code",
   "execution_count": null,
   "metadata": {},
   "outputs": [],
   "source": [
    "test_gas=df[df.index.isin(test.index)].copy()\n",
    "test_gas[['Gas']].shape\n"
   ]
  },
  {
   "cell_type": "code",
   "execution_count": null,
   "metadata": {},
   "outputs": [],
   "source": [
    "test_indo=df[df.index.isin(test_indo.index)].copy()\n",
    "test_indo[['INDO']].shape\n"
   ]
  },
  {
   "cell_type": "code",
   "execution_count": null,
   "metadata": {},
   "outputs": [],
   "source": [
    "df['Price'].plot(figsize=(15, 5), title = 'The UK electricity price time-series')"
   ]
  },
  {
   "cell_type": "code",
   "execution_count": null,
   "metadata": {},
   "outputs": [],
   "source": [
    "df['Gas'].plot(figsize=(15, 5), title = 'Gas Price')"
   ]
  },
  {
   "cell_type": "code",
   "execution_count": null,
   "metadata": {},
   "outputs": [],
   "source": [
    "df['Price'].loc[(df['Price'].index >= '2019-06-01') &\n",
    "               (df['Price'].index < '2019-07-01')] \\\n",
    "    .plot(figsize=(15, 5), title = 'June 2019')"
   ]
  },
  {
   "cell_type": "code",
   "execution_count": null,
   "metadata": {},
   "outputs": [],
   "source": [
    "#ACF and PACF\n",
    "from statsmodels.tsa.stattools import acovf,acf,pacf,pacf_yw,pacf_ols\n",
    "from statsmodels.graphics.tsaplots import plot_acf,plot_pacf"
   ]
  },
  {
   "cell_type": "code",
   "execution_count": null,
   "metadata": {},
   "outputs": [],
   "source": [
    "title = 'Autocorrelation: Half-hourly Electricity Prices'\n",
    "lags = 48\n",
    "plot_acf(df['Price'],title=title,lags=lags);\n",
    "#This plot indicates non-stationary data, as there are a large number of lags before ACF values drop off."
   ]
  },
  {
   "cell_type": "code",
   "execution_count": null,
   "metadata": {},
   "outputs": [],
   "source": [
    "title='Partial Autocorrelation: Half-hourly Electricity Prices'\n",
    "lags=48\n",
    "plot_pacf(df['Price'],title=title,lags=lags);"
   ]
  },
  {
   "cell_type": "code",
   "execution_count": null,
   "metadata": {},
   "outputs": [],
   "source": [
    "#First order differencing:\n",
    "from statsmodels.tsa.statespace.tools import diff\n",
    "\n",
    "df['d1'] = diff(df['Price'],k_diff=1)\n",
    "df['d1'].plot(figsize=(12,5));"
   ]
  },
  {
   "cell_type": "code",
   "execution_count": null,
   "metadata": {},
   "outputs": [],
   "source": [
    "title='PACF: Half Hourly Electricity Prices First Difference'\n",
    "lags=40\n",
    "plot_pacf(df['d1'].dropna(),title=title,lags=np.arange(lags));  # be sure to add .dropna() here!"
   ]
  },
  {
   "cell_type": "code",
   "execution_count": null,
   "metadata": {},
   "outputs": [],
   "source": [
    "# full autocorrelation plot, it helps to increase the figure size using matplotlib:\n",
    "import matplotlib.pyplot as plt\n",
    "fig, ax = plt.subplots(figsize=(12,5))\n",
    "\n",
    "plot_acf(df['Price'],ax=ax);"
   ]
  },
  {
   "cell_type": "code",
   "execution_count": null,
   "metadata": {},
   "outputs": [],
   "source": [
    "df['30-Day-SMA'] = df['Price'].rolling(window=48).mean()\n",
    "df['30-Day-Std'] = df['Price'].rolling(window=48).std()\n",
    "\n",
    "df[['Price','30-Day-SMA','30-Day-Std']].plot();"
   ]
  },
  {
   "cell_type": "code",
   "execution_count": null,
   "metadata": {},
   "outputs": [],
   "source": [
    "#Stationary Function\n",
    "from statsmodels.tsa.stattools import adfuller\n",
    "\n",
    "def adf_test(series,title=''):\n",
    "    \"\"\"\n",
    "    Pass in a time series and an optional title, returns an ADF report\n",
    "    \"\"\"\n",
    "    print(f'Augmented Dickey-Fuller Test: {title}')\n",
    "    result = adfuller(series.dropna(),autolag='AIC') # .dropna() handles differenced data\n",
    "    \n",
    "    labels = ['ADF test statistic','p-value','# lags used','# observations']\n",
    "    out = pd.Series(result[0:4],index=labels)\n",
    "\n",
    "    for key,val in result[4].items():\n",
    "        out[f'critical value ({key})']=val\n",
    "        \n",
    "    print(out.to_string())          # .to_string() removes the line \"dtype: float64\"\n",
    "    \n",
    "    if result[1] <= 0.05:\n",
    "        print(\"Strong evidence against the null hypothesis\")\n",
    "        print(\"Reject the null hypothesis\")\n",
    "        print(\"Data has no unit root and is stationary\")\n",
    "    else:\n",
    "        print(\"Weak evidence against the null hypothesis\")\n",
    "        print(\"Fail to reject the null hypothesis\")\n",
    "        print(\"Data has a unit root and is non-stationary\")"
   ]
  },
  {
   "cell_type": "code",
   "execution_count": null,
   "metadata": {
    "tags": []
   },
   "outputs": [],
   "source": [
    "adf_test(df['Price'],'Stationarity test')"
   ]
  },
  {
   "cell_type": "code",
   "execution_count": null,
   "metadata": {},
   "outputs": [],
   "source": [
    "auto_arima(df['Price'],error_action='ignore').summary()"
   ]
  },
  {
   "cell_type": "code",
   "execution_count": null,
   "metadata": {},
   "outputs": [],
   "source": [
    "stepwise_fit = auto_arima(df['Price'], start_p=0, start_q=0,\n",
    "                          max_p=6, max_q=3, m=12,\n",
    "                          seasonal=False,\n",
    "                          d=None, trace=True,\n",
    "                          error_action='ignore',   # we don't want to know if an order does not work\n",
    "                          suppress_warnings=True,  # we don't want convergence warnings\n",
    "                          stepwise=True)           # set to stepwise\n",
    "\n",
    "stepwise_fit.summary()"
   ]
  },
  {
   "cell_type": "code",
   "execution_count": null,
   "metadata": {},
   "outputs": [],
   "source": [
    "#ARMA Model:\n",
    "model = ARMA(train,order=(5,1))\n",
    "results = model.fit()\n",
    "results.summary()"
   ]
  },
  {
   "cell_type": "code",
   "execution_count": null,
   "metadata": {},
   "outputs": [],
   "source": [
    "start=len(train)\n",
    "end=len(train)+len(test)-1\n",
    "start\n",
    "predictions = results.predict(start=start, end=end).rename('ARMA(5,1) Predictions')"
   ]
  },
  {
   "cell_type": "code",
   "execution_count": null,
   "metadata": {},
   "outputs": [],
   "source": [
    "title = 'Half Hourly Price Predictions'\n",
    "ylabel='Price'\n",
    "xlabel=''\n",
    "\n",
    "ax = test.plot(legend=True,figsize=(12,6),title=title)\n",
    "predictions.plot(legend=True)\n",
    "ax.autoscale(axis='x',tight=True)\n",
    "ax.set(xlabel=xlabel, ylabel=ylabel);"
   ]
  },
  {
   "cell_type": "code",
   "execution_count": null,
   "metadata": {},
   "outputs": [],
   "source": [
    "#Model Evaluation\n",
    "from statsmodels.tools.eval_measures import mse,rmse\n",
    "from sklearn.metrics import mean_absolute_error\n",
    "\n",
    "error1 = mse(test, predictions)\n",
    "error2 = rmse(test, predictions)\n",
    "\n",
    "def mean_absolute_percentage_error(y_true, y_pred): \n",
    "    y_true, y_pred = np.array(y_true), np.array(y_pred)\n",
    "    return np.mean(np.abs((y_true - y_pred) / y_true)) * 100\n",
    "\n",
    "print(f'MAE Error: {mean_absolute_error(test, predictions)}'), \n",
    "print(f'MAPE Error: {mean_absolute_percentage_error(test, predictions)}')\n",
    "print(f'MSE Error : {error1:11.10}')\n",
    "print(f'RMSE Error: {error2:11.10}')\n",
    "print()\n"
   ]
  },
  {
   "cell_type": "code",
   "execution_count": null,
   "metadata": {},
   "outputs": [],
   "source": [
    "#ARIMA MODELS\n",
    "model =ARIMA(train,order=(4,1,3))\n",
    "results = model.fit()\n",
    "results.summary()"
   ]
  },
  {
   "cell_type": "code",
   "execution_count": null,
   "metadata": {},
   "outputs": [],
   "source": [
    "start=len(train)\n",
    "end=len(train)+len(test)-1\n",
    "predictions_arima = results.predict(start=start, end=end).rename('ARIMA(2,1,1) Predictions')"
   ]
  },
  {
   "cell_type": "code",
   "execution_count": null,
   "metadata": {},
   "outputs": [],
   "source": [
    "from statsmodels.tools.eval_measures import mse,rmse\n",
    "from sklearn.metrics import mean_absolute_error\n",
    "\n",
    "error1 = mse(test, predictions_arima)\n",
    "error2 = rmse(test, predictions_arima)\n",
    "\n",
    "def mean_absolute_percentage_error(y_true, y_pred): \n",
    "    y_true, y_pred = np.array(y_true), np.array(y_pred)\n",
    "    return np.mean(np.abs((y_true - y_pred) / y_true)) * 100\n",
    "\n",
    "print(f'MAE Error: {mean_absolute_error(test, predictions_arima)}'), \n",
    "print(f'MAPE Error: {mean_absolute_percentage_error(test, predictions_arima)}')\n",
    "print(f'MSE Error : {error1:11.10}')\n",
    "print(f'RMSE Error: {error2:11.10}')\n",
    "print()"
   ]
  },
  {
   "cell_type": "code",
   "execution_count": null,
   "metadata": {},
   "outputs": [],
   "source": [
    "title = 'Half Hourly Price Predictions'\n",
    "ylabel='Price'\n",
    "xlabel='' \n",
    "\n",
    "ax = test.plot(legend=True,figsize=(12,6),title=title)\n",
    "predictions_arima.plot(legend=True)\n",
    "ax.autoscale(axis='x',tight=True)\n",
    "ax.set(xlabel=xlabel, ylabel=ylabel);"
   ]
  },
  {
   "cell_type": "code",
   "execution_count": null,
   "metadata": {},
   "outputs": [],
   "source": [
    "# Plot predictions against known values\n",
    "title = 'Real adn Predicted MID'\n",
    "ylabel='Prices'\n",
    "xlabel='' \n",
    "ax = df['Price'].plot(legend=True,figsize=(12,6),title=title)\n",
    "predictions.plot(legend=True)\n",
    "ax.autoscale(axis='x',tight=True)\n",
    "ax.set(xlabel=xlabel, ylabel=ylabel)\n",
    "#ax.yaxis.set_major_formatter(formatter);"
   ]
  },
  {
   "cell_type": "code",
   "execution_count": null,
   "metadata": {},
   "outputs": [],
   "source": [
    "model = SARIMAX(train,order=(5,1,1),seasonal_order=(1,0,1,12),\n",
    "                exog=train_gas,\n",
    "               enforce_stationarity=False,\n",
    "               enforce_invertibility=False\n",
    "               )\n",
    "results = model.fit()\n",
    "results.summary()"
   ]
  },
  {
   "cell_type": "code",
   "execution_count": null,
   "metadata": {},
   "outputs": [],
   "source": [
    "train.shape"
   ]
  },
  {
   "cell_type": "code",
   "execution_count": null,
   "metadata": {},
   "outputs": [],
   "source": [
    "# Obtain predicted values\n",
    "start=len(train)\n",
    "end=len(train)+len(test)-1\n",
    "exog_forecast=test_gas[['Gas']]\n",
    "predictions_sarima = results.predict(start=start, end=end,exog=exog_forecast, dynamic=False, typ='levels').rename('SARIMAX(5,1,1)(1,0,1,48) Predictions')\n",
    "#predictions_sarima = results.predict(start=start, end=end,  \n",
    " #                                    dynamic=False,\n",
    "  #                                   typ='levels').rename('SARIMAX(5,1,1)(1,0,1,12) Predictions')"
   ]
  },
  {
   "cell_type": "code",
   "execution_count": null,
   "metadata": {},
   "outputs": [],
   "source": [
    "predictions_sarima.shape\n"
   ]
  },
  {
   "cell_type": "code",
   "execution_count": null,
   "metadata": {},
   "outputs": [],
   "source": [
    "from statsmodels.tools.eval_measures import mse,rmse\n",
    "from sklearn.metrics import mean_absolute_error\n",
    "\n",
    "error1 = mse(test, predictions_sarima)\n",
    "error2 = rmse(test, predictions_sarima)\n",
    "\n",
    "def mean_absolute_percentage_error(y_true, y_pred): \n",
    "    y_true, y_pred = np.array(y_true), np.array(y_pred)\n",
    "    return np.mean(np.abs((y_true - y_pred) / y_true)) * 100\n",
    "\n",
    "print(f'MAE Error: {mean_absolute_error(test, predictions_sarima)}'), \n",
    "print(f'MAPE Error: {mean_absolute_percentage_error(test, predictions_sarima)}')\n",
    "print(f'MSE Error : {error1:11.10}')\n",
    "print(f'RMSE Error: {error2:11.10}')\n",
    "print()"
   ]
  },
  {
   "cell_type": "code",
   "execution_count": null,
   "metadata": {},
   "outputs": [],
   "source": [
    "title = 'Half Hourly Price Predictions'\n",
    "ylabel='Price'\n",
    "xlabel='' \n",
    "\n",
    "ax = train.plot(legend=True,figsize=(12,6),title=title)\n",
    "predictions_sarima.plot(legend=True)\n",
    "ax.autoscale(axis='x',tight=True)\n",
    "ax.set(xlabel=xlabel, ylabel=ylabel);"
   ]
  },
  {
   "cell_type": "code",
   "execution_count": null,
   "metadata": {},
   "outputs": [],
   "source": [
    "title = 'Half Hourly Price Predictions'\n",
    "ylabel='Price'\n",
    "xlabel='' \n",
    "ax = test.rename('Actual electricity prices from test set').plot(legend=True,figsize=(12,6),title=title)\n",
    "predictions_sarima.plot(legend=True)\n",
    "ax.autoscale(axis='x',tight=True)\n",
    "ax.set(xlabel=xlabel, ylabel=ylabel);"
   ]
  },
  {
   "cell_type": "code",
   "execution_count": null,
   "metadata": {},
   "outputs": [],
   "source": [
    "#SARIMA with INDO:\n",
    "model = SARIMAX(train.index,order=(5,1,1),seasonal_order=(1,0,1,48),\n",
    "                exog=train_indo,\n",
    "               enforce_stationarity=False,\n",
    "               enforce_invertibility=False\n",
    "               )\n",
    "results = model.fit()\n",
    "results.summary()"
   ]
  },
  {
   "cell_type": "code",
   "execution_count": null,
   "metadata": {},
   "outputs": [],
   "source": [
    "# Obtain predicted values\n",
    "start=len(train)\n",
    "end=len(train)+len(test)-1\n",
    "exog_forecast=test_indo[['INDO']]\n",
    "predictions_sarima = results.predict(start=start, end=end,exog=exog_forecast, dynamic=False, typ='levels').rename('SARIMAX(5,1,1)(1,0,1,48) Predictions')"
   ]
  },
  {
   "cell_type": "code",
   "execution_count": null,
   "metadata": {},
   "outputs": [],
   "source": [
    "from statsmodels.tools.eval_measures import mse,rmse\n",
    "from sklearn.metrics import mean_absolute_error\n",
    "\n",
    "error1 = mse(test, predictions_sarima)\n",
    "error2 = rmse(test, predictions_sarima)\n",
    "\n",
    "def mean_absolute_percentage_error(y_true, y_pred): \n",
    "    y_true, y_pred = np.array(y_true), np.array(y_pred)\n",
    "    return np.mean(np.abs((y_true - y_pred) / y_true)) * 100\n",
    "\n",
    "print(f'MAE Error: {mean_absolute_error(test, predictions_sarima)}'), \n",
    "print(f'MAPE Error: {mean_absolute_percentage_error(test, predictions_sarima)}')\n",
    "print(f'MSE Error : {error1:11.10}')\n",
    "print(f'RMSE Error: {error2:11.10}')\n",
    "print()"
   ]
  },
  {
   "cell_type": "code",
   "execution_count": null,
   "metadata": {},
   "outputs": [],
   "source": [
    "title = 'Half Hourly Price Predictions'\n",
    "ylabel='Price'\n",
    "xlabel='' \n",
    "ax = test.rename('Actual electricity prices from test set').plot(legend=True,figsize=(12,6),title=title)\n",
    "predictions_sarima.plot(legend=True)\n",
    "ax.autoscale(axis='x',tight=True)\n",
    "ax.set(xlabel=xlabel, ylabel=ylabel);"
   ]
  }
 ],
 "metadata": {
  "kernelspec": {
   "display_name": "Python 3",
   "language": "python",
   "name": "python3"
  },
  "language_info": {
   "codemirror_mode": {
    "name": "ipython",
    "version": 3
   },
   "file_extension": ".py",
   "mimetype": "text/x-python",
   "name": "python",
   "nbconvert_exporter": "python",
   "pygments_lexer": "ipython3",
   "version": "3.8.2-final"
  }
 },
 "nbformat": 4,
 "nbformat_minor": 2
}